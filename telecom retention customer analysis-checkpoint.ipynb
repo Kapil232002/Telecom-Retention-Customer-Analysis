{
 "cells": [
  {
   "cell_type": "code",
   "execution_count": 2,
   "id": "35a609a9-5851-4c33-8394-9a6efdd76792",
   "metadata": {},
   "outputs": [],
   "source": [
    "import numpy as np\n",
    "import pandas as pd"
   ]
  },
  {
   "cell_type": "code",
   "execution_count": 5,
   "id": "d33b56b2-437d-4228-acfa-a8d06dc93b33",
   "metadata": {},
   "outputs": [
    {
     "data": {
      "text/html": [
       "<div>\n",
       "<style scoped>\n",
       "    .dataframe tbody tr th:only-of-type {\n",
       "        vertical-align: middle;\n",
       "    }\n",
       "\n",
       "    .dataframe tbody tr th {\n",
       "        vertical-align: top;\n",
       "    }\n",
       "\n",
       "    .dataframe thead th {\n",
       "        text-align: right;\n",
       "    }\n",
       "</style>\n",
       "<table border=\"1\" class=\"dataframe\">\n",
       "  <thead>\n",
       "    <tr style=\"text-align: right;\">\n",
       "      <th></th>\n",
       "      <th>CustomerID</th>\n",
       "      <th>Gender</th>\n",
       "      <th>Age</th>\n",
       "      <th>TenureMonths</th>\n",
       "      <th>MonthlyCharges</th>\n",
       "      <th>TotalCharges</th>\n",
       "      <th>Contract</th>\n",
       "      <th>InternetService</th>\n",
       "      <th>PaymentMethod</th>\n",
       "      <th>Churn</th>\n",
       "    </tr>\n",
       "  </thead>\n",
       "  <tbody>\n",
       "    <tr>\n",
       "      <th>0</th>\n",
       "      <td>CUST00001</td>\n",
       "      <td>Male</td>\n",
       "      <td>71</td>\n",
       "      <td>23</td>\n",
       "      <td>92.45</td>\n",
       "      <td>2126.35</td>\n",
       "      <td>One year</td>\n",
       "      <td>DSL</td>\n",
       "      <td>Bank transfer</td>\n",
       "      <td>No</td>\n",
       "    </tr>\n",
       "    <tr>\n",
       "      <th>1</th>\n",
       "      <td>CUST00002</td>\n",
       "      <td>Female</td>\n",
       "      <td>34</td>\n",
       "      <td>26</td>\n",
       "      <td>93.45</td>\n",
       "      <td>2429.70</td>\n",
       "      <td>Month-to-month</td>\n",
       "      <td>Fiber optic</td>\n",
       "      <td>Mailed check</td>\n",
       "      <td>No</td>\n",
       "    </tr>\n",
       "    <tr>\n",
       "      <th>2</th>\n",
       "      <td>CUST00003</td>\n",
       "      <td>Male</td>\n",
       "      <td>26</td>\n",
       "      <td>7</td>\n",
       "      <td>84.62</td>\n",
       "      <td>592.34</td>\n",
       "      <td>Month-to-month</td>\n",
       "      <td>No</td>\n",
       "      <td>Bank transfer</td>\n",
       "      <td>No</td>\n",
       "    </tr>\n",
       "    <tr>\n",
       "      <th>3</th>\n",
       "      <td>CUST00004</td>\n",
       "      <td>Male</td>\n",
       "      <td>50</td>\n",
       "      <td>14</td>\n",
       "      <td>93.19</td>\n",
       "      <td>1304.66</td>\n",
       "      <td>Month-to-month</td>\n",
       "      <td>Fiber optic</td>\n",
       "      <td>Mailed check</td>\n",
       "      <td>Yes</td>\n",
       "    </tr>\n",
       "    <tr>\n",
       "      <th>4</th>\n",
       "      <td>CUST00005</td>\n",
       "      <td>Male</td>\n",
       "      <td>70</td>\n",
       "      <td>7</td>\n",
       "      <td>102.62</td>\n",
       "      <td>718.34</td>\n",
       "      <td>Month-to-month</td>\n",
       "      <td>No</td>\n",
       "      <td>Bank transfer</td>\n",
       "      <td>Yes</td>\n",
       "    </tr>\n",
       "    <tr>\n",
       "      <th>...</th>\n",
       "      <td>...</td>\n",
       "      <td>...</td>\n",
       "      <td>...</td>\n",
       "      <td>...</td>\n",
       "      <td>...</td>\n",
       "      <td>...</td>\n",
       "      <td>...</td>\n",
       "      <td>...</td>\n",
       "      <td>...</td>\n",
       "      <td>...</td>\n",
       "    </tr>\n",
       "    <tr>\n",
       "      <th>995</th>\n",
       "      <td>CUST00996</td>\n",
       "      <td>Male</td>\n",
       "      <td>49</td>\n",
       "      <td>36</td>\n",
       "      <td>70.14</td>\n",
       "      <td>2525.04</td>\n",
       "      <td>Month-to-month</td>\n",
       "      <td>Fiber optic</td>\n",
       "      <td>Credit card</td>\n",
       "      <td>No</td>\n",
       "    </tr>\n",
       "    <tr>\n",
       "      <th>996</th>\n",
       "      <td>CUST00997</td>\n",
       "      <td>Male</td>\n",
       "      <td>27</td>\n",
       "      <td>58</td>\n",
       "      <td>68.52</td>\n",
       "      <td>3974.16</td>\n",
       "      <td>One year</td>\n",
       "      <td>Fiber optic</td>\n",
       "      <td>Bank transfer</td>\n",
       "      <td>No</td>\n",
       "    </tr>\n",
       "    <tr>\n",
       "      <th>997</th>\n",
       "      <td>CUST00998</td>\n",
       "      <td>Female</td>\n",
       "      <td>33</td>\n",
       "      <td>54</td>\n",
       "      <td>74.95</td>\n",
       "      <td>4047.30</td>\n",
       "      <td>One year</td>\n",
       "      <td>No</td>\n",
       "      <td>Mailed check</td>\n",
       "      <td>No</td>\n",
       "    </tr>\n",
       "    <tr>\n",
       "      <th>998</th>\n",
       "      <td>CUST00999</td>\n",
       "      <td>Female</td>\n",
       "      <td>24</td>\n",
       "      <td>12</td>\n",
       "      <td>16.75</td>\n",
       "      <td>201.00</td>\n",
       "      <td>Month-to-month</td>\n",
       "      <td>Fiber optic</td>\n",
       "      <td>Bank transfer</td>\n",
       "      <td>No</td>\n",
       "    </tr>\n",
       "    <tr>\n",
       "      <th>999</th>\n",
       "      <td>CUST01000</td>\n",
       "      <td>Male</td>\n",
       "      <td>34</td>\n",
       "      <td>14</td>\n",
       "      <td>49.84</td>\n",
       "      <td>697.76</td>\n",
       "      <td>Month-to-month</td>\n",
       "      <td>Fiber optic</td>\n",
       "      <td>Mailed check</td>\n",
       "      <td>No</td>\n",
       "    </tr>\n",
       "  </tbody>\n",
       "</table>\n",
       "<p>1000 rows × 10 columns</p>\n",
       "</div>"
      ],
      "text/plain": [
       "    CustomerID  Gender  Age  TenureMonths  MonthlyCharges  TotalCharges  \\\n",
       "0    CUST00001    Male   71            23           92.45       2126.35   \n",
       "1    CUST00002  Female   34            26           93.45       2429.70   \n",
       "2    CUST00003    Male   26             7           84.62        592.34   \n",
       "3    CUST00004    Male   50            14           93.19       1304.66   \n",
       "4    CUST00005    Male   70             7          102.62        718.34   \n",
       "..         ...     ...  ...           ...             ...           ...   \n",
       "995  CUST00996    Male   49            36           70.14       2525.04   \n",
       "996  CUST00997    Male   27            58           68.52       3974.16   \n",
       "997  CUST00998  Female   33            54           74.95       4047.30   \n",
       "998  CUST00999  Female   24            12           16.75        201.00   \n",
       "999  CUST01000    Male   34            14           49.84        697.76   \n",
       "\n",
       "           Contract InternetService  PaymentMethod Churn  \n",
       "0          One year             DSL  Bank transfer    No  \n",
       "1    Month-to-month     Fiber optic   Mailed check    No  \n",
       "2    Month-to-month              No  Bank transfer    No  \n",
       "3    Month-to-month     Fiber optic   Mailed check   Yes  \n",
       "4    Month-to-month              No  Bank transfer   Yes  \n",
       "..              ...             ...            ...   ...  \n",
       "995  Month-to-month     Fiber optic    Credit card    No  \n",
       "996        One year     Fiber optic  Bank transfer    No  \n",
       "997        One year              No   Mailed check    No  \n",
       "998  Month-to-month     Fiber optic  Bank transfer    No  \n",
       "999  Month-to-month     Fiber optic   Mailed check    No  \n",
       "\n",
       "[1000 rows x 10 columns]"
      ]
     },
     "execution_count": 5,
     "metadata": {},
     "output_type": "execute_result"
    }
   ],
   "source": [
    "df =pd.read_csv(\"unique_telecom_data.csv\")\n",
    "df"
   ]
  },
  {
   "cell_type": "code",
   "execution_count": 49,
   "id": "8acdb3c9-a5b3-4c5c-a92f-272666765a80",
   "metadata": {},
   "outputs": [
    {
     "data": {
      "text/plain": [
       "True"
      ]
     },
     "execution_count": 49,
     "metadata": {},
     "output_type": "execute_result"
    }
   ],
   "source": [
    "#to verify whether it is dataframe or not....\n",
    "isinstance(df,pd.DataFrame)"
   ]
  },
  {
   "cell_type": "markdown",
   "id": "a6f0df6f-04e2-47aa-b107-873bc6d6d641",
   "metadata": {},
   "source": [
    "# some fuctions to check the null values in dataframe......\n"
   ]
  },
  {
   "cell_type": "code",
   "execution_count": 25,
   "id": "1531623d-3c96-4958-98a6-63e1ea2f1f55",
   "metadata": {},
   "outputs": [
    {
     "data": {
      "text/plain": [
       "CustomerID         0\n",
       "Gender             0\n",
       "Age                0\n",
       "TenureMonths       0\n",
       "MonthlyCharges     0\n",
       "TotalCharges       0\n",
       "Contract           0\n",
       "InternetService    0\n",
       "PaymentMethod      0\n",
       "Churn              0\n",
       "dtype: int64"
      ]
     },
     "execution_count": 25,
     "metadata": {},
     "output_type": "execute_result"
    }
   ],
   "source": [
    "# df.isnull()\n",
    "# df.isnull().values.any()\n",
    "# df.isnull().values.sum()\n",
    "df.isnull().sum()\n",
    "# df.isnull().sum().sum()"
   ]
  },
  {
   "cell_type": "markdown",
   "id": "b90d7ebb-93f0-479b-b9ab-0cead01f1a6d",
   "metadata": {},
   "source": [
    "**to check the duplicates in dataframe**"
   ]
  },
  {
   "cell_type": "code",
   "execution_count": 38,
   "id": "2aa95bd6-967a-418d-8e5d-62a63eeb940a",
   "metadata": {},
   "outputs": [
    {
     "data": {
      "text/plain": [
       "np.int64(0)"
      ]
     },
     "execution_count": 38,
     "metadata": {},
     "output_type": "execute_result"
    }
   ],
   "source": [
    "\n",
    "# df.duplicated()\n",
    "# df.duplicated(subset=['column_name'])\n",
    "df.duplicated().sum()\n",
    "# df[df.duplicated()]"
   ]
  },
  {
   "cell_type": "markdown",
   "id": "bef521fe-1c0c-4763-9b7a-0407fa843613",
   "metadata": {},
   "source": [
    "**Exploratory Data Analysis** "
   ]
  },
  {
   "cell_type": "code",
   "execution_count": 43,
   "id": "b825ec5c-4955-44f2-ab04-2f65cb0e900b",
   "metadata": {},
   "outputs": [
    {
     "name": "stdout",
     "output_type": "stream",
     "text": [
      "<class 'pandas.core.frame.DataFrame'>\n",
      "RangeIndex: 1000 entries, 0 to 999\n",
      "Data columns (total 10 columns):\n",
      " #   Column           Non-Null Count  Dtype  \n",
      "---  ------           --------------  -----  \n",
      " 0   CustomerID       1000 non-null   object \n",
      " 1   Gender           1000 non-null   object \n",
      " 2   Age              1000 non-null   int64  \n",
      " 3   TenureMonths     1000 non-null   int64  \n",
      " 4   MonthlyCharges   1000 non-null   float64\n",
      " 5   TotalCharges     1000 non-null   float64\n",
      " 6   Contract         1000 non-null   object \n",
      " 7   InternetService  1000 non-null   object \n",
      " 8   PaymentMethod    1000 non-null   object \n",
      " 9   Churn            1000 non-null   object \n",
      "dtypes: float64(2), int64(2), object(6)\n",
      "memory usage: 78.3+ KB\n"
     ]
    }
   ],
   "source": [
    "#To check the missing values and datatypes.....\n",
    "df.info() "
   ]
  },
  {
   "cell_type": "code",
   "execution_count": 44,
   "id": "5bf5cea2-a0ae-4533-8a9a-ff31e7b52026",
   "metadata": {},
   "outputs": [
    {
     "data": {
      "text/html": [
       "<div>\n",
       "<style scoped>\n",
       "    .dataframe tbody tr th:only-of-type {\n",
       "        vertical-align: middle;\n",
       "    }\n",
       "\n",
       "    .dataframe tbody tr th {\n",
       "        vertical-align: top;\n",
       "    }\n",
       "\n",
       "    .dataframe thead th {\n",
       "        text-align: right;\n",
       "    }\n",
       "</style>\n",
       "<table border=\"1\" class=\"dataframe\">\n",
       "  <thead>\n",
       "    <tr style=\"text-align: right;\">\n",
       "      <th></th>\n",
       "      <th>Age</th>\n",
       "      <th>TenureMonths</th>\n",
       "      <th>MonthlyCharges</th>\n",
       "      <th>TotalCharges</th>\n",
       "    </tr>\n",
       "  </thead>\n",
       "  <tbody>\n",
       "    <tr>\n",
       "      <th>count</th>\n",
       "      <td>1000.000000</td>\n",
       "      <td>1000.000000</td>\n",
       "      <td>1000.000000</td>\n",
       "      <td>1000.000000</td>\n",
       "    </tr>\n",
       "    <tr>\n",
       "      <th>mean</th>\n",
       "      <td>48.394000</td>\n",
       "      <td>34.399000</td>\n",
       "      <td>65.840710</td>\n",
       "      <td>2245.378680</td>\n",
       "    </tr>\n",
       "    <tr>\n",
       "      <th>std</th>\n",
       "      <td>17.818256</td>\n",
       "      <td>20.332368</td>\n",
       "      <td>32.116512</td>\n",
       "      <td>1821.394958</td>\n",
       "    </tr>\n",
       "    <tr>\n",
       "      <th>min</th>\n",
       "      <td>18.000000</td>\n",
       "      <td>1.000000</td>\n",
       "      <td>10.020000</td>\n",
       "      <td>27.580000</td>\n",
       "    </tr>\n",
       "    <tr>\n",
       "      <th>25%</th>\n",
       "      <td>34.000000</td>\n",
       "      <td>17.000000</td>\n",
       "      <td>37.877500</td>\n",
       "      <td>727.770000</td>\n",
       "    </tr>\n",
       "    <tr>\n",
       "      <th>50%</th>\n",
       "      <td>49.000000</td>\n",
       "      <td>33.000000</td>\n",
       "      <td>67.790000</td>\n",
       "      <td>1733.715000</td>\n",
       "    </tr>\n",
       "    <tr>\n",
       "      <th>75%</th>\n",
       "      <td>64.000000</td>\n",
       "      <td>51.250000</td>\n",
       "      <td>93.552500</td>\n",
       "      <td>3380.760000</td>\n",
       "    </tr>\n",
       "    <tr>\n",
       "      <th>max</th>\n",
       "      <td>79.000000</td>\n",
       "      <td>71.000000</td>\n",
       "      <td>119.970000</td>\n",
       "      <td>8213.760000</td>\n",
       "    </tr>\n",
       "  </tbody>\n",
       "</table>\n",
       "</div>"
      ],
      "text/plain": [
       "               Age  TenureMonths  MonthlyCharges  TotalCharges\n",
       "count  1000.000000   1000.000000     1000.000000   1000.000000\n",
       "mean     48.394000     34.399000       65.840710   2245.378680\n",
       "std      17.818256     20.332368       32.116512   1821.394958\n",
       "min      18.000000      1.000000       10.020000     27.580000\n",
       "25%      34.000000     17.000000       37.877500    727.770000\n",
       "50%      49.000000     33.000000       67.790000   1733.715000\n",
       "75%      64.000000     51.250000       93.552500   3380.760000\n",
       "max      79.000000     71.000000      119.970000   8213.760000"
      ]
     },
     "execution_count": 44,
     "metadata": {},
     "output_type": "execute_result"
    }
   ],
   "source": [
    "#To take a look for summary of dataframe.....\n",
    "df.describe()"
   ]
  },
  {
   "cell_type": "markdown",
   "id": "ccd08b64-f770-4efd-8034-b8b0dfafe63a",
   "metadata": {},
   "source": [
    "**conclusion after see the summaryand basic info about this dataframe....**\n",
    "\n",
    " - Here, there is no null values.\n",
    " - After see the values of mean and standard devation, it shows that the std is low.\n",
    " - Std is lower than the average(mean).\n",
    " - The values are closer to mean value.\n",
    " - Variancy between data points is less.\n",
    " - It shows that this data is ready to visualize..."
   ]
  },
  {
   "cell_type": "markdown",
   "id": "aa41a126-082f-46a2-9474-61a7d3dfbc00",
   "metadata": {},
   "source": [
    "**Check the visualizations in power bi file**"
   ]
  },
  {
   "cell_type": "code",
   "execution_count": null,
   "id": "9aa15ea5-2b5e-4ff3-8e2c-266d74bbc108",
   "metadata": {},
   "outputs": [],
   "source": []
  }
 ],
 "metadata": {
  "kernelspec": {
   "display_name": "Python 3 (ipykernel)",
   "language": "python",
   "name": "python3"
  },
  "language_info": {
   "codemirror_mode": {
    "name": "ipython",
    "version": 3
   },
   "file_extension": ".py",
   "mimetype": "text/x-python",
   "name": "python",
   "nbconvert_exporter": "python",
   "pygments_lexer": "ipython3",
   "version": "3.13.1"
  }
 },
 "nbformat": 4,
 "nbformat_minor": 5
}
